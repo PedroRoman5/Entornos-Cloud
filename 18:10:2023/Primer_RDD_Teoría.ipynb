{
  "cells": [
    {
      "cell_type": "markdown",
      "metadata": {
        "id": "G0LOaPyAgCU8"
      },
      "source": [
        "#  RDDs"
      ]
    },
    {
      "cell_type": "markdown",
      "metadata": {
        "id": "yxqIrsY-gCVB"
      },
      "source": [
        "# Creamos un contexto para crear RDDs"
      ]
    },
    {
      "cell_type": "code",
      "execution_count": 6,
      "metadata": {
        "id": "T3SkkrkIgCVD",
        "colab": {
          "base_uri": "https://localhost:8080/"
        },
        "outputId": "10b058e2-72a9-4a82-80a7-15f7d9a54246"
      },
      "outputs": [
        {
          "output_type": "stream",
          "name": "stdout",
          "text": [
            "\u001b[2K     \u001b[90m━━━━━━━━━━━━━━━━━━━━━━━━━━━━━━━━━━━━━━━━\u001b[0m \u001b[32m316.9/316.9 MB\u001b[0m \u001b[31m3.9 MB/s\u001b[0m eta \u001b[36m0:00:00\u001b[0m\n",
            "\u001b[?25h  Preparing metadata (setup.py) ... \u001b[?25l\u001b[?25hdone\n",
            "  Building wheel for pyspark (setup.py) ... \u001b[?25l\u001b[?25hdone\n"
          ]
        }
      ],
      "source": [
        "!pip install pyspark --quiet\n",
        "from pyspark import SparkContext"
      ]
    },
    {
      "cell_type": "code",
      "execution_count": 7,
      "metadata": {
        "id": "_X-TkHs-gCVE"
      },
      "outputs": [],
      "source": [
        "sc = SparkContext(master = \"local\", appName=\"TransformacionesyAcciones\")"
      ]
    },
    {
      "cell_type": "markdown",
      "metadata": {
        "id": "oYNeSv5EgCVF"
      },
      "source": [
        "# Un RDD es una colección inmutable y distribuida de elementos\n",
        "\n",
        "### Spark automaticamente distribuye los datos y paraleliza las operaciones\n",
        "\n",
        "### Los RDD realmente cargan colecciones de datos"
      ]
    },
    {
      "cell_type": "code",
      "execution_count": 8,
      "metadata": {
        "id": "-yfNRIqPgCVF"
      },
      "outputs": [],
      "source": [
        "rdd1 = sc.parallelize([1,2,3])"
      ]
    },
    {
      "cell_type": "markdown",
      "metadata": {
        "id": "7daw3WsugCVF"
      },
      "source": [
        "### Debido a la propiedad de distribución que tienen los RDD, en su creación, podemos particionar los datos"
      ]
    },
    {
      "cell_type": "code",
      "execution_count": 9,
      "metadata": {
        "id": "gV_9CtH-gCVG"
      },
      "outputs": [],
      "source": [
        "import numpy as np\n",
        "rdd2 = sc.parallelize(np.array(range(100)),2)"
      ]
    },
    {
      "cell_type": "markdown",
      "metadata": {
        "id": "OXf9xyz4gCVG"
      },
      "source": [
        "### Verificamos el tipo de dato"
      ]
    },
    {
      "cell_type": "code",
      "execution_count": 10,
      "metadata": {
        "id": "-6IXNzw2gCVG",
        "colab": {
          "base_uri": "https://localhost:8080/"
        },
        "outputId": "fe6f7297-f511-499f-d53e-15d308652940"
      },
      "outputs": [
        {
          "output_type": "execute_result",
          "data": {
            "text/plain": [
              "pyspark.rdd.RDD"
            ]
          },
          "metadata": {},
          "execution_count": 10
        }
      ],
      "source": [
        "type(rdd1)"
      ]
    },
    {
      "cell_type": "markdown",
      "metadata": {
        "id": "M9fdoJ87gCVG"
      },
      "source": [
        "### Vemos el contenido\n",
        "\n",
        "Veremos distintas tecnicas apropiadas para ver el contenido de los RDDs y Dataframes"
      ]
    },
    {
      "cell_type": "code",
      "execution_count": 11,
      "metadata": {
        "id": "QzqUUjhCgCVH",
        "colab": {
          "base_uri": "https://localhost:8080/"
        },
        "outputId": "da7428e0-3fdd-467b-b9ea-dfd8de6135da"
      },
      "outputs": [
        {
          "output_type": "execute_result",
          "data": {
            "text/plain": [
              "[1, 2, 3]"
            ]
          },
          "metadata": {},
          "execution_count": 11
        }
      ],
      "source": [
        "rdd1.collect()"
      ]
    },
    {
      "cell_type": "markdown",
      "metadata": {
        "id": "cvXwqRwdgCVH"
      },
      "source": [
        "# Carga de un arhivo CSV"
      ]
    },
    {
      "cell_type": "markdown",
      "metadata": {
        "id": "OfQ67xw1gCVI"
      },
      "source": [
        "### Cargamos un RDDs\n",
        "\n",
        "El método textFile busca el archivo en la ruta indicada\n",
        "\n",
        "Cambia el valor de la ruta para que apunte a la ruta donde tienes los datos"
      ]
    },
    {
      "cell_type": "code",
      "execution_count": 12,
      "metadata": {
        "id": "9AG-1zOcgCVI",
        "colab": {
          "base_uri": "https://localhost:8080/"
        },
        "outputId": "f7099110-ef54-4f5c-8c57-ea8983c789f6"
      },
      "outputs": [
        {
          "output_type": "stream",
          "name": "stdout",
          "text": [
            "Drive already mounted at /content/drive/; to attempt to forcibly remount, call drive.mount(\"/content/drive/\", force_remount=True).\n"
          ]
        }
      ],
      "source": [
        "from google.colab import drive\n",
        "drive.mount('/content/drive/')\n",
        "\n",
        "equiposOlimpicosRDD = sc.textFile(\"/content/drive/MyDrive/Colab Notebooks/RED.ES/Datos Ejercicios/M6/paises.csv\",2).map(lambda line : line.split(\",\"))"
      ]
    },
    {
      "cell_type": "markdown",
      "metadata": {
        "id": "FGKXqN4sgCVI"
      },
      "source": [
        "### Vemos el contenido\n",
        "\n",
        "El método take es otro método existnte para poder visualizar el contenido de los RDDs"
      ]
    },
    {
      "cell_type": "code",
      "execution_count": null,
      "metadata": {
        "id": "HA3o7cq1gCVI"
      },
      "outputs": [],
      "source": [
        "equiposOlimpicosRDD.take(10)"
      ]
    },
    {
      "cell_type": "code",
      "execution_count": null,
      "metadata": {
        "id": "LfOUKBkvgCVJ"
      },
      "outputs": [],
      "source": [
        "sc.stop()"
      ]
    },
    {
      "cell_type": "markdown",
      "source": [
        "## Ejercicio:\n",
        "\n",
        "Intenta leer un archivo csv o de texto y hacer alguna transformación.\n",
        "\n",
        "* Busca el archivo del quijote.txt por internet.\n",
        "* Subelo a Google COlab e importalo con pyspark.\n",
        "* Cuenta los caracteres del fichero."
      ],
      "metadata": {
        "id": "a0DSWeq2xcEH"
      }
    },
    {
      "cell_type": "code",
      "source": [
        "#Inserta aquí tú código\n"
      ],
      "metadata": {
        "id": "vSx9LCyjxo9f"
      },
      "execution_count": 14,
      "outputs": []
    },
    {
      "cell_type": "code",
      "source": [
        "from google.colab import drive\n",
        "drive.mount('/content/drive')"
      ],
      "metadata": {
        "colab": {
          "base_uri": "https://localhost:8080/"
        },
        "id": "UPtdZ4DSNAbv",
        "outputId": "a6262e68-5ac1-4da7-c3ca-58c09131e671"
      },
      "execution_count": 17,
      "outputs": [
        {
          "output_type": "stream",
          "name": "stdout",
          "text": [
            "Drive already mounted at /content/drive; to attempt to forcibly remount, call drive.mount(\"/content/drive\", force_remount=True).\n"
          ]
        }
      ]
    },
    {
      "cell_type": "code",
      "source": [
        "donquijote = sc.textFile('/content/drive/MyDrive/Colab Notebooks/Don Quijote de la Mancha.txt')"
      ],
      "metadata": {
        "id": "mDUChwwxBRyC"
      },
      "execution_count": 18,
      "outputs": []
    }
  ],
  "metadata": {
    "kernelspec": {
      "display_name": "Python 3",
      "language": "python",
      "name": "python3"
    },
    "language_info": {
      "codemirror_mode": {
        "name": "ipython",
        "version": 3
      },
      "file_extension": ".py",
      "mimetype": "text/x-python",
      "name": "python",
      "nbconvert_exporter": "python",
      "pygments_lexer": "ipython3",
      "version": "3.8.5"
    },
    "colab": {
      "provenance": []
    }
  },
  "nbformat": 4,
  "nbformat_minor": 0
}