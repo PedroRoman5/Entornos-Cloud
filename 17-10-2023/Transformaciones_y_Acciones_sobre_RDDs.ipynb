{
  "cells": [
    {
      "cell_type": "markdown",
      "metadata": {
        "id": "2C0gHZxhzQO4"
      },
      "source": [
        "# RDDs + Programación Funcional"
      ]
    },
    {
      "cell_type": "markdown",
      "metadata": {
        "id": "LVfG6M1yzQO8"
      },
      "source": [
        "# Creamos un contexo para crear RDDs"
      ]
    },
    {
      "cell_type": "code",
      "execution_count": 1,
      "metadata": {
        "id": "YnfCdJB5zQO9",
        "colab": {
          "base_uri": "https://localhost:8080/"
        },
        "outputId": "f37d899a-4fd6-4fe1-a514-b40a05ecf22a"
      },
      "outputs": [
        {
          "output_type": "stream",
          "name": "stdout",
          "text": [
            "\u001b[2K     \u001b[90m━━━━━━━━━━━━━━━━━━━━━━━━━━━━━━━━━━━━━━━━\u001b[0m \u001b[32m316.9/316.9 MB\u001b[0m \u001b[31m4.5 MB/s\u001b[0m eta \u001b[36m0:00:00\u001b[0m\n",
            "\u001b[?25h  Preparing metadata (setup.py) ... \u001b[?25l\u001b[?25hdone\n",
            "  Building wheel for pyspark (setup.py) ... \u001b[?25l\u001b[?25hdone\n"
          ]
        }
      ],
      "source": [
        "import pandas as pd\n",
        "!pip install pyspark --quiet\n",
        "from pyspark import SparkContext\n",
        "sc = SparkContext(master = \"local\", appName = \"Transformaciones sobre un RDD\")"
      ]
    },
    {
      "cell_type": "markdown",
      "metadata": {
        "id": "38_UH5CfzQO_"
      },
      "source": [
        "# Cargamos un RDDs\n",
        "\n",
        "Para la realzación del ejercicio, con ayuda del archivo paises, realizaremos el equivalente de operaciones 'select','count','group by' y 'filter / where'\n",
        "\n",
        "Cambia el valor de la ruta para que apunte a la ruta donde tienes los datos"
      ]
    },
    {
      "cell_type": "code",
      "execution_count": 12,
      "metadata": {
        "colab": {
          "base_uri": "https://localhost:8080/"
        },
        "id": "T-Mj3LYEzQO_",
        "outputId": "3f203bb4-376f-49df-ecb1-98a972996b0c"
      },
      "outputs": [
        {
          "output_type": "stream",
          "name": "stdout",
          "text": [
            "Mounted at /content/drive/\n"
          ]
        }
      ],
      "source": [
        "from google.colab import drive\n",
        "drive.mount('/content/drive/')\n",
        "#LEER CSV\n",
        "equiposOlimpicosRDD = sc.textFile(\"/content/drive/MyDrive/Colab Notebooks/paises.csv\").map(lambda line : line.split(\",\"))"
      ]
    },
    {
      "cell_type": "code",
      "execution_count": null,
      "metadata": {
        "colab": {
          "base_uri": "https://localhost:8080/"
        },
        "id": "Oj9HTfgrOgqx",
        "outputId": "1f9934d8-9e3f-47f5-9297-74edcd0d0722"
      },
      "outputs": [
        {
          "name": "stdout",
          "output_type": "stream",
          "text": [
            "Drive already mounted at /content/drive; to attempt to forcibly remount, call drive.mount(\"/content/drive\", force_remount=True).\n"
          ]
        }
      ],
      "source": [
        "from google.colab import drive\n",
        "drive.mount('/content/drive')"
      ]
    },
    {
      "cell_type": "code",
      "execution_count": null,
      "metadata": {
        "colab": {
          "base_uri": "https://localhost:8080/"
        },
        "id": "a91H4XHUzQPA",
        "outputId": "4cd06788-5b28-4d3c-b8dc-65e5dfabf9e7"
      },
      "outputs": [
        {
          "data": {
            "text/plain": [
              "[['id', 'equipo', 'sigla'],\n",
              " ['1', '30. Februar', 'AUT'],\n",
              " ['2', 'A North American Team', 'MEX'],\n",
              " ['3', 'Acipactli', 'MEX'],\n",
              " ['4', 'Acturus', 'ARG'],\n",
              " ['5', 'Afghanistan', 'AFG'],\n",
              " ['6', 'Akatonbo', 'IRL'],\n",
              " ['7', 'Alain IV', 'SUI'],\n",
              " ['8', 'Albania', 'ALB'],\n",
              " ['9', 'Alcaid', 'POR']]"
            ]
          },
          "execution_count": 34,
          "metadata": {},
          "output_type": "execute_result"
        }
      ],
      "source": [
        "equiposOlimpicosRDD.take(10)"
      ]
    },
    {
      "cell_type": "markdown",
      "metadata": {
        "id": "mjPeYZk8DDjf"
      },
      "source": [
        "### Deshacemos un RDD\n",
        "\n",
        "Con ayuda del método `collect()`, permite desparalelizar un RDD.\n"
      ]
    },
    {
      "cell_type": "code",
      "execution_count": null,
      "metadata": {
        "id": "jzY0aDY2Daz5"
      },
      "outputs": [],
      "source": [
        "equiposOlimpicosRDD.collect()"
      ]
    },
    {
      "cell_type": "markdown",
      "metadata": {
        "id": "SAGUptZuDcx_"
      },
      "source": [
        "Creamos un dataframe a partir de un RDD mediante `pd.DataFrame()`"
      ]
    },
    {
      "cell_type": "code",
      "execution_count": null,
      "metadata": {
        "colab": {
          "base_uri": "https://localhost:8080/",
          "height": 424
        },
        "id": "Mio-IxZn1Qn5",
        "outputId": "ad757ec1-fbe2-4537-9659-e5c3b1fac06d"
      },
      "outputs": [
        {
          "data": {
            "text/html": [
              "\n",
              "  <div id=\"df-ed8bdb2e-54a8-42ad-8dac-5a4dba1252ca\" class=\"colab-df-container\">\n",
              "    <div>\n",
              "<style scoped>\n",
              "    .dataframe tbody tr th:only-of-type {\n",
              "        vertical-align: middle;\n",
              "    }\n",
              "\n",
              "    .dataframe tbody tr th {\n",
              "        vertical-align: top;\n",
              "    }\n",
              "\n",
              "    .dataframe thead th {\n",
              "        text-align: right;\n",
              "    }\n",
              "</style>\n",
              "<table border=\"1\" class=\"dataframe\">\n",
              "  <thead>\n",
              "    <tr style=\"text-align: right;\">\n",
              "      <th></th>\n",
              "      <th>id</th>\n",
              "      <th>equipo</th>\n",
              "      <th>sigla</th>\n",
              "    </tr>\n",
              "  </thead>\n",
              "  <tbody>\n",
              "    <tr>\n",
              "      <th>0</th>\n",
              "      <td>1</td>\n",
              "      <td>30. Februar</td>\n",
              "      <td>AUT</td>\n",
              "    </tr>\n",
              "    <tr>\n",
              "      <th>1</th>\n",
              "      <td>2</td>\n",
              "      <td>A North American Team</td>\n",
              "      <td>MEX</td>\n",
              "    </tr>\n",
              "    <tr>\n",
              "      <th>2</th>\n",
              "      <td>3</td>\n",
              "      <td>Acipactli</td>\n",
              "      <td>MEX</td>\n",
              "    </tr>\n",
              "    <tr>\n",
              "      <th>3</th>\n",
              "      <td>4</td>\n",
              "      <td>Acturus</td>\n",
              "      <td>ARG</td>\n",
              "    </tr>\n",
              "    <tr>\n",
              "      <th>4</th>\n",
              "      <td>5</td>\n",
              "      <td>Afghanistan</td>\n",
              "      <td>AFG</td>\n",
              "    </tr>\n",
              "    <tr>\n",
              "      <th>...</th>\n",
              "      <td>...</td>\n",
              "      <td>...</td>\n",
              "      <td>...</td>\n",
              "    </tr>\n",
              "    <tr>\n",
              "      <th>1179</th>\n",
              "      <td>1180</td>\n",
              "      <td>Yugoslavia-2</td>\n",
              "      <td>YUG</td>\n",
              "    </tr>\n",
              "    <tr>\n",
              "      <th>1180</th>\n",
              "      <td>1181</td>\n",
              "      <td>Zambia</td>\n",
              "      <td>ZAM</td>\n",
              "    </tr>\n",
              "    <tr>\n",
              "      <th>1181</th>\n",
              "      <td>1182</td>\n",
              "      <td>Zefyros</td>\n",
              "      <td>GRE</td>\n",
              "    </tr>\n",
              "    <tr>\n",
              "      <th>1182</th>\n",
              "      <td>1183</td>\n",
              "      <td>Zimbabwe</td>\n",
              "      <td>ZIM</td>\n",
              "    </tr>\n",
              "    <tr>\n",
              "      <th>1183</th>\n",
              "      <td>1184</td>\n",
              "      <td>Zut</td>\n",
              "      <td>BEL</td>\n",
              "    </tr>\n",
              "  </tbody>\n",
              "</table>\n",
              "<p>1184 rows × 3 columns</p>\n",
              "</div>\n",
              "    <div class=\"colab-df-buttons\">\n",
              "\n",
              "  <div class=\"colab-df-container\">\n",
              "    <button class=\"colab-df-convert\" onclick=\"convertToInteractive('df-ed8bdb2e-54a8-42ad-8dac-5a4dba1252ca')\"\n",
              "            title=\"Convert this dataframe to an interactive table.\"\n",
              "            style=\"display:none;\">\n",
              "\n",
              "  <svg xmlns=\"http://www.w3.org/2000/svg\" height=\"24px\" viewBox=\"0 -960 960 960\">\n",
              "    <path d=\"M120-120v-720h720v720H120Zm60-500h600v-160H180v160Zm220 220h160v-160H400v160Zm0 220h160v-160H400v160ZM180-400h160v-160H180v160Zm440 0h160v-160H620v160ZM180-180h160v-160H180v160Zm440 0h160v-160H620v160Z\"/>\n",
              "  </svg>\n",
              "    </button>\n",
              "\n",
              "  <style>\n",
              "    .colab-df-container {\n",
              "      display:flex;\n",
              "      gap: 12px;\n",
              "    }\n",
              "\n",
              "    .colab-df-convert {\n",
              "      background-color: #E8F0FE;\n",
              "      border: none;\n",
              "      border-radius: 50%;\n",
              "      cursor: pointer;\n",
              "      display: none;\n",
              "      fill: #1967D2;\n",
              "      height: 32px;\n",
              "      padding: 0 0 0 0;\n",
              "      width: 32px;\n",
              "    }\n",
              "\n",
              "    .colab-df-convert:hover {\n",
              "      background-color: #E2EBFA;\n",
              "      box-shadow: 0px 1px 2px rgba(60, 64, 67, 0.3), 0px 1px 3px 1px rgba(60, 64, 67, 0.15);\n",
              "      fill: #174EA6;\n",
              "    }\n",
              "\n",
              "    .colab-df-buttons div {\n",
              "      margin-bottom: 4px;\n",
              "    }\n",
              "\n",
              "    [theme=dark] .colab-df-convert {\n",
              "      background-color: #3B4455;\n",
              "      fill: #D2E3FC;\n",
              "    }\n",
              "\n",
              "    [theme=dark] .colab-df-convert:hover {\n",
              "      background-color: #434B5C;\n",
              "      box-shadow: 0px 1px 3px 1px rgba(0, 0, 0, 0.15);\n",
              "      filter: drop-shadow(0px 1px 2px rgba(0, 0, 0, 0.3));\n",
              "      fill: #FFFFFF;\n",
              "    }\n",
              "  </style>\n",
              "\n",
              "    <script>\n",
              "      const buttonEl =\n",
              "        document.querySelector('#df-ed8bdb2e-54a8-42ad-8dac-5a4dba1252ca button.colab-df-convert');\n",
              "      buttonEl.style.display =\n",
              "        google.colab.kernel.accessAllowed ? 'block' : 'none';\n",
              "\n",
              "      async function convertToInteractive(key) {\n",
              "        const element = document.querySelector('#df-ed8bdb2e-54a8-42ad-8dac-5a4dba1252ca');\n",
              "        const dataTable =\n",
              "          await google.colab.kernel.invokeFunction('convertToInteractive',\n",
              "                                                    [key], {});\n",
              "        if (!dataTable) return;\n",
              "\n",
              "        const docLinkHtml = 'Like what you see? Visit the ' +\n",
              "          '<a target=\"_blank\" href=https://colab.research.google.com/notebooks/data_table.ipynb>data table notebook</a>'\n",
              "          + ' to learn more about interactive tables.';\n",
              "        element.innerHTML = '';\n",
              "        dataTable['output_type'] = 'display_data';\n",
              "        await google.colab.output.renderOutput(dataTable, element);\n",
              "        const docLink = document.createElement('div');\n",
              "        docLink.innerHTML = docLinkHtml;\n",
              "        element.appendChild(docLink);\n",
              "      }\n",
              "    </script>\n",
              "  </div>\n",
              "\n",
              "\n",
              "<div id=\"df-ca679814-dddf-47ce-ad7b-624c1452bb84\">\n",
              "  <button class=\"colab-df-quickchart\" onclick=\"quickchart('df-ca679814-dddf-47ce-ad7b-624c1452bb84')\"\n",
              "            title=\"Suggest charts.\"\n",
              "            style=\"display:none;\">\n",
              "\n",
              "<svg xmlns=\"http://www.w3.org/2000/svg\" height=\"24px\"viewBox=\"0 0 24 24\"\n",
              "     width=\"24px\">\n",
              "    <g>\n",
              "        <path d=\"M19 3H5c-1.1 0-2 .9-2 2v14c0 1.1.9 2 2 2h14c1.1 0 2-.9 2-2V5c0-1.1-.9-2-2-2zM9 17H7v-7h2v7zm4 0h-2V7h2v10zm4 0h-2v-4h2v4z\"/>\n",
              "    </g>\n",
              "</svg>\n",
              "  </button>\n",
              "\n",
              "<style>\n",
              "  .colab-df-quickchart {\n",
              "      --bg-color: #E8F0FE;\n",
              "      --fill-color: #1967D2;\n",
              "      --hover-bg-color: #E2EBFA;\n",
              "      --hover-fill-color: #174EA6;\n",
              "      --disabled-fill-color: #AAA;\n",
              "      --disabled-bg-color: #DDD;\n",
              "  }\n",
              "\n",
              "  [theme=dark] .colab-df-quickchart {\n",
              "      --bg-color: #3B4455;\n",
              "      --fill-color: #D2E3FC;\n",
              "      --hover-bg-color: #434B5C;\n",
              "      --hover-fill-color: #FFFFFF;\n",
              "      --disabled-bg-color: #3B4455;\n",
              "      --disabled-fill-color: #666;\n",
              "  }\n",
              "\n",
              "  .colab-df-quickchart {\n",
              "    background-color: var(--bg-color);\n",
              "    border: none;\n",
              "    border-radius: 50%;\n",
              "    cursor: pointer;\n",
              "    display: none;\n",
              "    fill: var(--fill-color);\n",
              "    height: 32px;\n",
              "    padding: 0;\n",
              "    width: 32px;\n",
              "  }\n",
              "\n",
              "  .colab-df-quickchart:hover {\n",
              "    background-color: var(--hover-bg-color);\n",
              "    box-shadow: 0 1px 2px rgba(60, 64, 67, 0.3), 0 1px 3px 1px rgba(60, 64, 67, 0.15);\n",
              "    fill: var(--button-hover-fill-color);\n",
              "  }\n",
              "\n",
              "  .colab-df-quickchart-complete:disabled,\n",
              "  .colab-df-quickchart-complete:disabled:hover {\n",
              "    background-color: var(--disabled-bg-color);\n",
              "    fill: var(--disabled-fill-color);\n",
              "    box-shadow: none;\n",
              "  }\n",
              "\n",
              "  .colab-df-spinner {\n",
              "    border: 2px solid var(--fill-color);\n",
              "    border-color: transparent;\n",
              "    border-bottom-color: var(--fill-color);\n",
              "    animation:\n",
              "      spin 1s steps(1) infinite;\n",
              "  }\n",
              "\n",
              "  @keyframes spin {\n",
              "    0% {\n",
              "      border-color: transparent;\n",
              "      border-bottom-color: var(--fill-color);\n",
              "      border-left-color: var(--fill-color);\n",
              "    }\n",
              "    20% {\n",
              "      border-color: transparent;\n",
              "      border-left-color: var(--fill-color);\n",
              "      border-top-color: var(--fill-color);\n",
              "    }\n",
              "    30% {\n",
              "      border-color: transparent;\n",
              "      border-left-color: var(--fill-color);\n",
              "      border-top-color: var(--fill-color);\n",
              "      border-right-color: var(--fill-color);\n",
              "    }\n",
              "    40% {\n",
              "      border-color: transparent;\n",
              "      border-right-color: var(--fill-color);\n",
              "      border-top-color: var(--fill-color);\n",
              "    }\n",
              "    60% {\n",
              "      border-color: transparent;\n",
              "      border-right-color: var(--fill-color);\n",
              "    }\n",
              "    80% {\n",
              "      border-color: transparent;\n",
              "      border-right-color: var(--fill-color);\n",
              "      border-bottom-color: var(--fill-color);\n",
              "    }\n",
              "    90% {\n",
              "      border-color: transparent;\n",
              "      border-bottom-color: var(--fill-color);\n",
              "    }\n",
              "  }\n",
              "</style>\n",
              "\n",
              "  <script>\n",
              "    async function quickchart(key) {\n",
              "      const quickchartButtonEl =\n",
              "        document.querySelector('#' + key + ' button');\n",
              "      quickchartButtonEl.disabled = true;  // To prevent multiple clicks.\n",
              "      quickchartButtonEl.classList.add('colab-df-spinner');\n",
              "      try {\n",
              "        const charts = await google.colab.kernel.invokeFunction(\n",
              "            'suggestCharts', [key], {});\n",
              "      } catch (error) {\n",
              "        console.error('Error during call to suggestCharts:', error);\n",
              "      }\n",
              "      quickchartButtonEl.classList.remove('colab-df-spinner');\n",
              "      quickchartButtonEl.classList.add('colab-df-quickchart-complete');\n",
              "    }\n",
              "    (() => {\n",
              "      let quickchartButtonEl =\n",
              "        document.querySelector('#df-ca679814-dddf-47ce-ad7b-624c1452bb84 button');\n",
              "      quickchartButtonEl.style.display =\n",
              "        google.colab.kernel.accessAllowed ? 'block' : 'none';\n",
              "    })();\n",
              "  </script>\n",
              "</div>\n",
              "    </div>\n",
              "  </div>\n"
            ],
            "text/plain": [
              "        id                 equipo sigla\n",
              "0        1            30. Februar   AUT\n",
              "1        2  A North American Team   MEX\n",
              "2        3              Acipactli   MEX\n",
              "3        4                Acturus   ARG\n",
              "4        5            Afghanistan   AFG\n",
              "...    ...                    ...   ...\n",
              "1179  1180           Yugoslavia-2   YUG\n",
              "1180  1181                 Zambia   ZAM\n",
              "1181  1182                Zefyros   GRE\n",
              "1182  1183               Zimbabwe   ZIM\n",
              "1183  1184                    Zut   BEL\n",
              "\n",
              "[1184 rows x 3 columns]"
            ]
          },
          "execution_count": 36,
          "metadata": {},
          "output_type": "execute_result"
        }
      ],
      "source": [
        "pd.DataFrame(equiposOlimpicosRDD.collect()[1:], columns = equiposOlimpicosRDD.collect()[0] )"
      ]
    },
    {
      "cell_type": "markdown",
      "metadata": {
        "id": "rYVavORU3Yx7"
      },
      "source": [
        "# Operaciones sobre un RDDs\n",
        "\n",
        "Para la realzación del ejercicio, con ayuda del archivo paises, realizaremos el equivalente de operaciones `select`,`count`,`group by` , `filter` y `where`"
      ]
    },
    {
      "cell_type": "markdown",
      "metadata": {
        "id": "rHZH2AR_D1t_"
      },
      "source": [
        "### Ejercicio 1:\n",
        "**Mostrar los países sin repetidos**\n",
        "\n",
        "*   Seleccionar la columna de las siglas PISTA: Usa un map y quedate con la columna con indice 2.\n",
        "*   Usamos el `distinct()`\n",
        "\n"
      ]
    },
    {
      "cell_type": "code",
      "execution_count": null,
      "metadata": {
        "colab": {
          "base_uri": "https://localhost:8080/"
        },
        "id": "YCrbVMte0Nzy",
        "outputId": "f2bedfbf-6918-4aa8-a56c-6b966ed2b9a5"
      },
      "outputs": [
        {
          "data": {
            "text/plain": [
              "['sigla', 'AUT', 'MEX', 'ARG', 'AFG']"
            ]
          },
          "execution_count": 37,
          "metadata": {},
          "output_type": "execute_result"
        }
      ],
      "source": [
        "#Inserta aquí tu código\n",
        "columna_siglas = equiposOlimpicosRDD.map( lambda fila : fila[2] )\n",
        "columna_siglas_sin_repetidos = columna_siglas.distinct()\n",
        "columna_siglas_sin_repetidos.take(5)\n"
      ]
    },
    {
      "cell_type": "markdown",
      "metadata": {
        "id": "wddQm8GvzQPA"
      },
      "source": [
        "### Ejercicio 2\n",
        "**Contar la cantidad de siglas diferentes de los equipos olímpicos existentes**\n",
        "\n",
        "PISTA: Puedes usar `count()`"
      ]
    },
    {
      "cell_type": "code",
      "execution_count": 16,
      "metadata": {
        "colab": {
          "base_uri": "https://localhost:8080/"
        },
        "id": "r37ow1TTzQPB",
        "outputId": "12fb9503-fc16-456c-f53c-494165412b9a"
      },
      "outputs": [
        {
          "output_type": "stream",
          "name": "stdout",
          "text": [
            "Cantidad de siglas diferentes: 230\n"
          ]
        }
      ],
      "source": [
        "#Inserta aquí tu código\n",
        "from pyspark.sql import SparkSession\n",
        "\n",
        "# Crea una sesión de Spark\n",
        "spark = SparkSession.builder.appName(\"EquiposOlimpicos\").getOrCreate()\n",
        "\n",
        "# Lee el archivo CSV y crea un DataFrame\n",
        "equiposOlimpicosDF = spark.read.csv(\"/content/drive/MyDrive/Colab Notebooks/paises.csv\", header=True)\n",
        "\n",
        "# Selecciona la columna de las siglas (columna con índice 2)\n",
        "siglasDF = equiposOlimpicosDF.select(equiposOlimpicosDF.columns[2])\n",
        "\n",
        "# Utiliza distinct() para obtener los valores distintos en la columna de siglas\n",
        "siglas_distintas = siglasDF.distinct()\n",
        "\n",
        "# Cuenta la cantidad de siglas diferentes\n",
        "cantidad_siglas_diferentes = siglas_distintas.count()\n",
        "\n",
        "# Imprime la cantidad de siglas diferentes\n",
        "print(\"Cantidad de siglas diferentes:\", cantidad_siglas_diferentes)\n",
        "\n",
        "# Detén la sesión de Spark\n",
        "spark.stop()\n"
      ]
    },
    {
      "cell_type": "markdown",
      "metadata": {
        "id": "NdBMwHo6zQPB"
      },
      "source": [
        "### Ejercicio 3 (Díficil, puedes hacerlo el último)\n",
        "**Agrupamos datos para poder determinar cuantos equipos posee un pais**\n",
        "\n",
        "Recuerda que los RDDs poseen una estructura de `clave-valor`, por lo cual debemos poner primero el valor 'clave' (la sigla del país).\n",
        "\n",
        "Con 'mapValues', al componente 'valor' le indicamos que operación deseamos que se le aplique.\n",
        "\n",
        "**Objetivo 1**: Tener un diccionario con `clave` la sigla del país y `valor` la lista de equipos de ese país\n",
        "\n",
        "Con `groupByKey` podemos agrupar por `clave`, en este caso por sigla del país  "
      ]
    },
    {
      "cell_type": "code",
      "execution_count": 19,
      "metadata": {
        "colab": {
          "base_uri": "https://localhost:8080/",
          "height": 197
        },
        "id": "vxUqbKmyzQPC",
        "outputId": "40c28670-3a8d-49c1-889e-df5edee8dc39"
      },
      "outputs": [
        {
          "output_type": "error",
          "ename": "NameError",
          "evalue": "ignored",
          "traceback": [
            "\u001b[0;31m---------------------------------------------------------------------------\u001b[0m",
            "\u001b[0;31mNameError\u001b[0m                                 Traceback (most recent call last)",
            "\u001b[0;32m<ipython-input-19-c86a0e335ceb>\u001b[0m in \u001b[0;36m<cell line: 2>\u001b[0;34m()\u001b[0m\n\u001b[1;32m      1\u001b[0m \u001b[0;31m#Inserta aquí tu código\u001b[0m\u001b[0;34m\u001b[0m\u001b[0;34m\u001b[0m\u001b[0m\n\u001b[0;32m----> 2\u001b[0;31m \u001b[0mequiposOlimpicosRDD\u001b[0m\u001b[0;34m.\u001b[0m\u001b[0mmap\u001b[0m\u001b[0;34m(\u001b[0m\u001b[0;32mlambda\u001b[0m \u001b[0mfila\u001b[0m \u001b[0;34m:\u001b[0m \u001b[0mfila\u001b[0m\u001b[0;34m[\u001b[0m\u001b[0;36m2\u001b[0m\u001b[0;34m]\u001b[0m\u001b[0;34m,\u001b[0m\u001b[0mfila\u001b[0m\u001b[0;34m[\u001b[0m\u001b[0;36m1\u001b[0m\u001b[0;34m]\u001b[0m\u001b[0;34m)\u001b[0m\u001b[0;34m.\u001b[0m\u001b[0mgroupByKey\u001b[0m\u001b[0;34m(\u001b[0m\u001b[0;34m)\u001b[0m\u001b[0;34m.\u001b[0m\u001b[0mmapValues\u001b[0m\u001b[0;34m(\u001b[0m\u001b[0mlist\u001b[0m\u001b[0;34m)\u001b[0m\u001b[0;34m.\u001b[0m\u001b[0mtake\u001b[0m\u001b[0;34m(\u001b[0m\u001b[0;36m5\u001b[0m\u001b[0;34m)\u001b[0m\u001b[0;34m\u001b[0m\u001b[0;34m\u001b[0m\u001b[0m\n\u001b[0m",
            "\u001b[0;31mNameError\u001b[0m: name 'fila' is not defined"
          ]
        }
      ],
      "source": [
        "#Inserta aquí tu código\n",
        "equiposOlimpicosRDD.map(lambda fila : fila[2],fila[1]).groupByKey().mapValues(list).take(5)"
      ]
    },
    {
      "cell_type": "markdown",
      "metadata": {
        "id": "onaaHz_m7zsz"
      },
      "source": [
        "**Objetivo 2**: Tener un diccionario con `clave` la sigla del país y `valor` la cantidad de equipos de ese país"
      ]
    },
    {
      "cell_type": "code",
      "execution_count": null,
      "metadata": {
        "id": "_4Ww2IdIzQPC"
      },
      "outputs": [],
      "source": [
        "#Inserta aquí tu código\n",
        "from pyspark import SparkContext\n",
        "\n",
        "# Crea el contexto de Spark\n",
        "sc = SparkContext(\"local\", \"EquiposOlimpicos\")\n",
        "\n",
        "# Carga los datos desde el archivo CSV en tu Google Drive\n",
        "equiposOlimpicosRDD = sc.textFile(\"/content/drive/MyDrive/Colab Notebooks/paises.csv\").map(lambda fila: fila.split(\",\"))\n",
        "\n",
        "# Mapea para crear un RDD de pares clave-valor (sigla_del_pais, 1) donde 1 representa un equipo\n",
        "pares_pais_equipos = equiposOlimpicosRDD.map(lambda fila: (fila[2], 1))\n",
        "\n",
        "# Utiliza reduceByKey para sumar la cantidad de equipos por país\n",
        "cantidad_equipos_por_pais = pares_pais_equipos.reduceByKey(lambda a, b: a + b)\n",
        "\n",
        "# Recoge los resultados en forma de diccionario\n",
        "diccionario_pais_cantidad_equipos = cantidad_equipos_por_pais.collectAsMap()\n",
        "\n",
        "# Imprime el diccionario con clave sigla del país y valor cantidad de equipos\n",
        "for sigla, cantidad in diccionario_pais_cantidad_equipos.items():\n",
        "    print(f\"Sigla del país: {sigla}, Cantidad de equipos: {cantidad}\")\n",
        "\n",
        "# Detén el contexto de Spark\n",
        "sc.stop()\n"
      ]
    },
    {
      "cell_type": "markdown",
      "metadata": {
        "id": "yjdW-6BZzQPC"
      },
      "source": [
        "### Operación filter para obtener un subconjunto\n",
        "\n",
        "Con el método 'filter', reducimos el conjuntos de equipos.\n",
        "\n",
        "Nos quedamos con la sigla equivalente de argentina"
      ]
    },
    {
      "cell_type": "code",
      "execution_count": null,
      "metadata": {
        "colab": {
          "base_uri": "https://localhost:8080/"
        },
        "id": "KEQtaJwazQPC",
        "outputId": "9782edb7-6604-447c-a8e8-ab21ae741ba1"
      },
      "outputs": [
        {
          "name": "stdout",
          "output_type": "stream",
          "text": [
            "Equipo de Argentina: Acturus\n",
            "Equipo de Argentina: Antares\n",
            "Equipo de Argentina: Arcturus\n",
            "Equipo de Argentina: Ardilla\n",
            "Equipo de Argentina: Argentina\n",
            "Equipo de Argentina: Argentina-1\n",
            "Equipo de Argentina: Argentina-2\n",
            "Equipo de Argentina: Blue Red\n",
            "Equipo de Argentina: Covunco III\n",
            "Equipo de Argentina: Cupidon III\n",
            "Equipo de Argentina: Djinn\n",
            "Equipo de Argentina: Gullvinge\n",
            "Equipo de Argentina: Matrero II\n",
            "Equipo de Argentina: Mizar\n",
            "Equipo de Argentina: Pampero\n",
            "Equipo de Argentina: Rampage\n",
            "Equipo de Argentina: Tango\n",
            "Equipo de Argentina: Wiking\n"
          ]
        }
      ],
      "source": [
        "from pyspark import SparkContext\n",
        "\n",
        "# Crea el contexto de Spark\n",
        "sc = SparkContext(\"local\", \"EquiposOlimpicos\")\n",
        "\n",
        "# Carga los datos desde el archivo CSV en tu Google Drive\n",
        "equiposOlimpicosRDD = sc.textFile(\"/content/drive/MyDrive/Colab Notebooks/paises.csv\").map(lambda fila: fila.split(\",\"))\n",
        "\n",
        "# Define la sigla de Argentina (ajústala según tus datos)\n",
        "sigla_argentina = \"ARG\"\n",
        "\n",
        "# Utiliza filter para quedarte con los equipos que tienen la sigla de Argentina\n",
        "equipos_argentina = equiposOlimpicosRDD.filter(lambda fila: fila[2] == sigla_argentina)\n",
        "\n",
        "# Recoge los resultados en forma de lista\n",
        "lista_equipos_argentina = equipos_argentina.collect()\n",
        "\n",
        "# Imprime los equipos con la sigla de Argentina\n",
        "for equipo in lista_equipos_argentina:\n",
        "    print(f\"Equipo de Argentina: {equipo[1]}\")\n",
        "\n",
        "# Detén el contexto de Spark\n",
        "sc.stop()\n"
      ]
    },
    {
      "cell_type": "markdown",
      "metadata": {
        "id": "yTKWJ6uuzQPD"
      },
      "source": [
        "# Accciones sobre RDDs"
      ]
    },
    {
      "cell_type": "code",
      "execution_count": null,
      "metadata": {
        "id": "IzeFoWgIX3sR"
      },
      "outputs": [],
      "source": [
        "# Si ya tienes un contexto de Spark, deténlo\n",
        "if 'sc' in locals() or 'sc' in globals():\n",
        "    sc.stop()"
      ]
    },
    {
      "cell_type": "code",
      "execution_count": null,
      "metadata": {
        "id": "9oMfLYCFzQPD"
      },
      "outputs": [],
      "source": [
        "deportistaOlimpicoRDD = sc.textFile(\"/content/drive/MyDrive/Colab Notebooks/deportista.csv\").map(lambda line : line.split(\",\"))\n",
        "deportistaOlimpico2RDD = sc.textFile(\"/content/drive/MyDrive/Colab Notebooks/deportista2.csv\").map(lambda line : line.split(\",\"))"
      ]
    },
    {
      "cell_type": "code",
      "execution_count": null,
      "metadata": {
        "id": "6b4nfMdPzQPD"
      },
      "outputs": [],
      "source": [
        "deportistaOlimpicoRDD = deportistaOlimpicoRDD.union(deportistaOlimpico2RDD)"
      ]
    },
    {
      "cell_type": "markdown",
      "metadata": {
        "id": "wusBWOhIzQPD"
      },
      "source": [
        "### Formas de visualizar datos de un RDDs\n",
        "\n",
        "La operación 'take' nos devuelve 'N' valores que encuentre spark.\n",
        "\n",
        "La operación 'top', previo ordena respecto al valor llave y nos devuelve 'N' valores.\n",
        "\n",
        "La operacion 'takeSample', nos devuelve una muestra aleatoria de los valores, Observa que recibe tres parametros\n",
        "\n",
        "| Orden | Argumento | Descripción | Valor\n",
        "|-------|--------|-----|--------|\n",
        "|1|withReplacement|Indica si la muetra podrá traer replicados|Bool|\n",
        "|2| num| Cantidad de valores a retornar|int|\n",
        "|3|seed|semilla para el generador aleatorio|int|"
      ]
    },
    {
      "cell_type": "markdown",
      "metadata": {
        "id": "HIL2jSanzQPD"
      },
      "source": [
        "Nota: Si encuentras complicado leer el código en los segmentos donde usamos indices en las listas, ejecutalo por partes para que visualizes que componentes seleccionamos\n",
        "\n",
        "Nota: Para hacer join con RDDs, debemos tener selecionada la llave al inicio del RDD para poder realizar el cruce."
      ]
    },
    {
      "cell_type": "code",
      "execution_count": null,
      "metadata": {
        "colab": {
          "base_uri": "https://localhost:8080/"
        },
        "id": "V3-IYatwkRqf",
        "outputId": "5538ade3-ba9f-49c6-fca0-3de0bfe3a9db"
      },
      "outputs": [
        {
          "data": {
            "text/plain": [
              "[['deportista_id', 'nombre', 'genero', 'edad', 'altura', 'peso', 'equipo_id'],\n",
              " ['1', 'A Dijiang', '1', '24', '180', '80', '199'],\n",
              " ['2', 'A Lamusi', '1', '23', '170', '60', '199']]"
            ]
          },
          "execution_count": 90,
          "metadata": {},
          "output_type": "execute_result"
        }
      ],
      "source": [
        "deportistaOlimpicoRDD.take(3)"
      ]
    },
    {
      "cell_type": "code",
      "execution_count": null,
      "metadata": {
        "colab": {
          "base_uri": "https://localhost:8080/"
        },
        "id": "7lPtnbCZkcRg",
        "outputId": "904c1af6-d191-43c1-ecf4-f9b262c9ae8e"
      },
      "outputs": [
        {
          "data": {
            "text/plain": [
              "[['equipo_id',\n",
              "  ['deportista_id', 'nombre', 'genero', 'edad', 'altura', 'peso']],\n",
              " ['199', ['1', 'A Dijiang', '1', '24', '180', '80']],\n",
              " ['199', ['2', 'A Lamusi', '1', '23', '170', '60']]]"
            ]
          },
          "execution_count": 91,
          "metadata": {},
          "output_type": "execute_result"
        }
      ],
      "source": [
        "deportistaOlimpicoRDD.map(lambda x :[x[-1], x[:-1]]).take(3)"
      ]
    },
    {
      "cell_type": "code",
      "execution_count": null,
      "metadata": {
        "id": "6kU8TH5tXZgh"
      },
      "outputs": [],
      "source": [
        "if 'sc' in locals() or 'sc' in globals():\n",
        "    sc.stop()  # Detén el contexto de Spark existente si existe\n",
        "\n",
        "# Crea un nuevo contexto de Spark\n",
        "sc = SparkContext(\"local\", \"EquiposDeportistas\")\n",
        "\n",
        "# Realiza tus operaciones de Spark dentro de este nuevo contexto\n"
      ]
    },
    {
      "cell_type": "code",
      "execution_count": null,
      "metadata": {
        "id": "TgidK7uekktd"
      },
      "outputs": [],
      "source": [
        "equiposOlimpicosRDD.map(lambda x : [x[0],x[2]]).take(3)"
      ]
    },
    {
      "cell_type": "code",
      "execution_count": null,
      "metadata": {
        "id": "dujFUIR-zQPE"
      },
      "outputs": [],
      "source": [
        "deportistaOlimpicoRDD.map(lambda x :[x[-1], x[:-1]]).join(equiposOlimpicosRDD \\\n",
        "                        .map(lambda x : [x[0],x[2]])).take(6)"
      ]
    },
    {
      "cell_type": "code",
      "execution_count": null,
      "metadata": {
        "id": "egEvLY1kzQPE"
      },
      "outputs": [],
      "source": [
        "deportistaOlimpicoRDD.map(lambda x :[x[-1], x[:-1]]).join(equiposOlimpicosRDD \\\n",
        "                        .map(lambda x : [x[0],x[2]])).top(5)"
      ]
    },
    {
      "cell_type": "code",
      "execution_count": null,
      "metadata": {
        "id": "oKfW9T8QzQPE"
      },
      "outputs": [],
      "source": [
        "deportistaOlimpicoRDD.map(lambda x :[x[-1], x[:-1]]).join(equiposOlimpicosRDD \\\n",
        "                        .map(lambda x : [x[0],x[2]])).takeSample(False,4,10)"
      ]
    },
    {
      "cell_type": "markdown",
      "metadata": {
        "id": "s1p9GbMXRKUh"
      },
      "source": [
        "### Ejercicio 4\n",
        "**Muestra 17 filas del RDD deportistaOlimpicoRDD**\n"
      ]
    },
    {
      "cell_type": "code",
      "execution_count": null,
      "metadata": {
        "colab": {
          "base_uri": "https://localhost:8080/"
        },
        "id": "YGBkAiRSRKUi",
        "outputId": "388397ec-4a22-4829-9819-7b3c0ba38701"
      },
      "outputs": [
        {
          "data": {
            "text/plain": [
              "[['deportista_id', 'nombre', 'genero', 'edad', 'altura', 'peso', 'equipo_id'],\n",
              " ['1', 'A Dijiang', '1', '24', '180', '80', '199'],\n",
              " ['2', 'A Lamusi', '1', '23', '170', '60', '199'],\n",
              " ['3', 'Gunnar Nielsen Aaby', '1', '24', '0', '0', '273'],\n",
              " ['4', 'Edgar Lindenau Aabye', '1', '34', '0', '0', '278'],\n",
              " ['5', 'Christine Jacoba Aaftink', '2', '21', '185', '82', '705'],\n",
              " ['6', 'Per Knut Aaland', '1', '31', '188', '75', '1096'],\n",
              " ['7', 'John Aalberg', '1', '31', '183', '72', '1096'],\n",
              " ['8', 'Cornelia Cor Aalten Strannood ', '2', '18', '168', '0', '705'],\n",
              " ['9', 'Antti Sami Aalto', '1', '26', '186', '96', '350'],\n",
              " ['10', 'Einar Ferdinand Einari Aalto', '1', '26', '0', '0', '350'],\n",
              " ['11', 'Jorma Ilmari Aalto', '1', '22', '182', '76.5', '350'],\n",
              " ['12', 'Jyri Tapani Aalto', '1', '31', '172', '70', '350'],\n",
              " ['13', 'Minna Maarit Aalto', '2', '30', '159', '55.5', '350'],\n",
              " ['14', 'Pirjo Hannele Aalto Mattila ', '2', '32', '171', '65', '350'],\n",
              " ['15', 'Arvo Ossian Aaltonen', '1', '22', '0', '0', '350'],\n",
              " ['16', 'Juhamatti Tapio Aaltonen', '1', '28', '184', '85', '350'],\n",
              " ['17', 'Paavo Johannes Aaltonen', '1', '28', '175', '64', '350']]"
            ]
          },
          "execution_count": 101,
          "metadata": {},
          "output_type": "execute_result"
        }
      ],
      "source": [
        "#Inserta aquí tu código\n",
        "deportistaOlimpicoRDD.take(18)"
      ]
    },
    {
      "cell_type": "markdown",
      "metadata": {
        "id": "wKd3eGMmzQPE"
      },
      "source": [
        "## Importancia de countAprox"
      ]
    },
    {
      "cell_type": "markdown",
      "metadata": {
        "id": "olmQehcQzQPF"
      },
      "source": [
        "Debido a la cantidad de datos no siempre es recomendable hacer operaciones tipo count.\n",
        "\n",
        "Por lo que 'countAprox' es la solución mas viable cuando solo queremos darnos una idea de cuantos datos podemos leer durante un tiempo determinado. Nota: el parametro está en milisegundos"
      ]
    },
    {
      "cell_type": "code",
      "execution_count": null,
      "metadata": {
        "id": "ghA17-KfzQPF"
      },
      "outputs": [],
      "source": [
        "deportistaOlimpicoRDD.map(lambda x :[x[-1], x[:-1]]).join(equiposOlimpicosRDD \\\n",
        "                            .map(lambda x : [x[0],x[2]])).count()"
      ]
    },
    {
      "cell_type": "code",
      "execution_count": null,
      "metadata": {
        "id": "ntbJX0mmzQPF"
      },
      "outputs": [],
      "source": [
        "deportistaOlimpicoRDD.map(lambda x :[x[-1], x[:-1]]).join(equiposOlimpicosRDD \\\n",
        "                        .map(lambda x : [x[0],x[2]])).countApprox(20)"
      ]
    },
    {
      "cell_type": "markdown",
      "metadata": {
        "id": "qxyaA7XrzQPF"
      },
      "source": [
        "# Acciones de modificacion"
      ]
    },
    {
      "cell_type": "markdown",
      "metadata": {
        "id": "QzWHfn79zQPF"
      },
      "source": [
        "### Obtenemos el equipo y el deportista\n",
        "\n",
        "Guardamos el RDD resultante en equipoDeportista"
      ]
    },
    {
      "cell_type": "code",
      "execution_count": null,
      "metadata": {
        "id": "cuv7lqaSzQPF"
      },
      "outputs": [],
      "source": [
        "equipoDeportista = deportistaOlimpicoRDD.map(lambda x :[x[-1], x[:-1]]).join(equiposOlimpicosRDD \\\n",
        "                                            .map(lambda x : [x[0],x[2]]))"
      ]
    },
    {
      "cell_type": "code",
      "execution_count": null,
      "metadata": {
        "id": "0ASUP1A_zQPG"
      },
      "outputs": [],
      "source": [
        "equipoDeportista.take(1)\n"
      ]
    },
    {
      "cell_type": "code",
      "execution_count": null,
      "metadata": {
        "id": "YNBmieYBzQPG"
      },
      "outputs": [],
      "source": [
        "equipoDeportista.map(lambda x : (x[1][0][0],x[1][0][1:],x[1][1]) )"
      ]
    },
    {
      "cell_type": "markdown",
      "metadata": {
        "id": "2zxGrdbGzQPG"
      },
      "source": [
        "### Carga de resultados\n",
        "\n",
        "Esta tabla posee las medallas que los jugadores han ganado"
      ]
    },
    {
      "cell_type": "code",
      "execution_count": null,
      "metadata": {
        "id": "JJIp94vWzQPG"
      },
      "outputs": [],
      "source": [
        "resultado = sc.textFile(\"/content/drive/MyDrive/Colab Notebooks/resultados.csv\").map(lambda line : line.split(\",\"))"
      ]
    },
    {
      "cell_type": "markdown",
      "metadata": {
        "id": "7AagekzDzQPG"
      },
      "source": [
        "Eliminamos todas las medallas no ganadoras y nos quedamos con el valor de la medalla y  del deportista_id"
      ]
    },
    {
      "cell_type": "code",
      "execution_count": null,
      "metadata": {
        "id": "c-lpm6EVzQPH"
      },
      "outputs": [],
      "source": [
        "resultadoGanador = resultado.filter(lambda l : 'NA' not in l[1])\n",
        "resultadoGanador = resultadoGanador.map(lambda l : [l[2],l[1]])"
      ]
    },
    {
      "cell_type": "code",
      "execution_count": null,
      "metadata": {
        "id": "Gbe00aAczQPH"
      },
      "outputs": [],
      "source": [
        "resultadoGanador.take(15)"
      ]
    },
    {
      "cell_type": "markdown",
      "metadata": {
        "id": "_qSc4-5FzQPH"
      },
      "source": [
        "### Obtenemos la relación buscada: deportista,pais y medalla."
      ]
    },
    {
      "cell_type": "code",
      "execution_count": null,
      "metadata": {
        "colab": {
          "base_uri": "https://localhost:8080/",
          "height": 197
        },
        "id": "CG3xGTK6zQPH",
        "outputId": "351721a7-510f-4f3b-da17-aae809c97298"
      },
      "outputs": [
        {
          "ename": "NameError",
          "evalue": "ignored",
          "output_type": "error",
          "traceback": [
            "\u001b[0;31m---------------------------------------------------------------------------\u001b[0m",
            "\u001b[0;31mNameError\u001b[0m                                 Traceback (most recent call last)",
            "\u001b[0;32m<ipython-input-108-6f864aa2bdc1>\u001b[0m in \u001b[0;36m<cell line: 1>\u001b[0;34m()\u001b[0m\n\u001b[0;32m----> 1\u001b[0;31m \u001b[0mjugadoresMedalla\u001b[0m \u001b[0;34m=\u001b[0m  \u001b[0mequipoDeportista\u001b[0m\u001b[0;34m.\u001b[0m\u001b[0mjoin\u001b[0m\u001b[0;34m(\u001b[0m\u001b[0mresultadoGanador\u001b[0m\u001b[0;34m)\u001b[0m\u001b[0;34m\u001b[0m\u001b[0;34m\u001b[0m\u001b[0m\n\u001b[0m\u001b[1;32m      2\u001b[0m \u001b[0mjugadoresMedalla\u001b[0m\u001b[0;34m.\u001b[0m\u001b[0mtake\u001b[0m\u001b[0;34m(\u001b[0m\u001b[0;36m1\u001b[0m\u001b[0;34m)\u001b[0m\u001b[0;34m\u001b[0m\u001b[0;34m\u001b[0m\u001b[0m\n",
            "\u001b[0;31mNameError\u001b[0m: name 'equipoDeportista' is not defined"
          ]
        }
      ],
      "source": [
        "jugadoresMedalla =  equipoDeportista.join(resultadoGanador)\n",
        "jugadoresMedalla.take(1)"
      ]
    },
    {
      "cell_type": "markdown",
      "metadata": {
        "id": "a8WuSmepzQPI"
      },
      "source": [
        "### Agrupamos las medallas respecto a la sigla del pais jugador"
      ]
    },
    {
      "cell_type": "code",
      "execution_count": null,
      "metadata": {
        "colab": {
          "base_uri": "https://localhost:8080/",
          "height": 214
        },
        "id": "lcUTb15DzQPJ",
        "outputId": "072e795c-2499-4647-b011-4d847b284af1"
      },
      "outputs": [
        {
          "ename": "NameError",
          "evalue": "ignored",
          "output_type": "error",
          "traceback": [
            "\u001b[0;31m---------------------------------------------------------------------------\u001b[0m",
            "\u001b[0;31mNameError\u001b[0m                                 Traceback (most recent call last)",
            "\u001b[0;32m<ipython-input-107-6f67743b9ae3>\u001b[0m in \u001b[0;36m<cell line: 2>\u001b[0;34m()\u001b[0m\n\u001b[1;32m      1\u001b[0m \u001b[0md\u001b[0m \u001b[0;34m=\u001b[0m \u001b[0;34m{\u001b[0m\u001b[0;34m'Gold'\u001b[0m\u001b[0;34m:\u001b[0m\u001b[0;36m7\u001b[0m\u001b[0;34m,\u001b[0m \u001b[0;34m'Silver'\u001b[0m\u001b[0;34m:\u001b[0m\u001b[0;36m5\u001b[0m\u001b[0;34m,\u001b[0m \u001b[0;34m'Bronze'\u001b[0m\u001b[0;34m:\u001b[0m\u001b[0;36m4\u001b[0m\u001b[0;34m}\u001b[0m\u001b[0;34m\u001b[0m\u001b[0;34m\u001b[0m\u001b[0m\n\u001b[0;32m----> 2\u001b[0;31m \u001b[0mpaisesMedallas\u001b[0m \u001b[0;34m=\u001b[0m \u001b[0mjugadoresMedalla\u001b[0m\u001b[0;34m.\u001b[0m\u001b[0mmap\u001b[0m\u001b[0;34m(\u001b[0m\u001b[0;32mlambda\u001b[0m \u001b[0mx\u001b[0m \u001b[0;34m:\u001b[0m \u001b[0;34m(\u001b[0m\u001b[0mx\u001b[0m\u001b[0;34m[\u001b[0m\u001b[0;36m1\u001b[0m\u001b[0;34m]\u001b[0m\u001b[0;34m[\u001b[0m\u001b[0;36m0\u001b[0m\u001b[0;34m]\u001b[0m\u001b[0;34m[\u001b[0m\u001b[0;34m-\u001b[0m\u001b[0;36m1\u001b[0m\u001b[0;34m]\u001b[0m\u001b[0;34m,\u001b[0m\u001b[0md\u001b[0m\u001b[0;34m[\u001b[0m\u001b[0mx\u001b[0m\u001b[0;34m[\u001b[0m\u001b[0;36m1\u001b[0m\u001b[0;34m]\u001b[0m\u001b[0;34m[\u001b[0m\u001b[0;36m1\u001b[0m\u001b[0;34m]\u001b[0m\u001b[0;34m]\u001b[0m\u001b[0;34m)\u001b[0m \u001b[0;34m)\u001b[0m\u001b[0;34m\u001b[0m\u001b[0;34m\u001b[0m\u001b[0m\n\u001b[0m\u001b[1;32m      3\u001b[0m \u001b[0mpaisesMedallas\u001b[0m\u001b[0;34m.\u001b[0m\u001b[0mtakeSample\u001b[0m\u001b[0;34m(\u001b[0m\u001b[0;32mFalse\u001b[0m\u001b[0;34m,\u001b[0m\u001b[0;36m10\u001b[0m\u001b[0;34m)\u001b[0m\u001b[0;34m\u001b[0m\u001b[0;34m\u001b[0m\u001b[0m\n",
            "\u001b[0;31mNameError\u001b[0m: name 'jugadoresMedalla' is not defined"
          ]
        }
      ],
      "source": [
        "d = {'Gold':7, 'Silver':5, 'Bronze':4}\n",
        "paisesMedallas = jugadoresMedalla.map(lambda x : (x[1][0][-1],d[x[1][1]]) )\n",
        "paisesMedallas.takeSample(False,10)"
      ]
    },
    {
      "cell_type": "markdown",
      "metadata": {
        "id": "skE05DhPzQPK"
      },
      "source": [
        "### Obtenemos los valores de los puntuajes históricos de los paises jugadores"
      ]
    },
    {
      "cell_type": "code",
      "execution_count": null,
      "metadata": {
        "id": "79MuLEmqzQPK"
      },
      "outputs": [],
      "source": [
        "from operator import add\n",
        "conclusion = paisesMedallas.reduceByKey((add)).sortBy(lambda x : x[1],ascending=False)\n",
        "conclusion.take(10)"
      ]
    },
    {
      "cell_type": "markdown",
      "metadata": {
        "id": "na7avzcTzQPL"
      },
      "source": [
        "# Estadística básica sobre los RDDs"
      ]
    },
    {
      "cell_type": "markdown",
      "metadata": {
        "id": "txvDoGPhzQPL"
      },
      "source": [
        "Spark posee una suite integrada de forma natural para poder obtener estadísticas básicas."
      ]
    },
    {
      "cell_type": "code",
      "execution_count": null,
      "metadata": {
        "id": "TbTldbYHzQPL"
      },
      "outputs": [],
      "source": [
        "conclusion.map(lambda l : l[1]).stats()"
      ]
    },
    {
      "cell_type": "code",
      "execution_count": null,
      "metadata": {
        "id": "jgmQCwq_zQPL"
      },
      "outputs": [],
      "source": [
        "conclusion.map(lambda l : l [1]).mean()"
      ]
    },
    {
      "cell_type": "code",
      "execution_count": null,
      "metadata": {
        "id": "8kobm9iHzQPL"
      },
      "outputs": [],
      "source": [
        "conclusion.map(lambda l : l [1]).sum()"
      ]
    },
    {
      "cell_type": "code",
      "execution_count": null,
      "metadata": {
        "id": "6FOuFvAszQPM"
      },
      "outputs": [],
      "source": [
        "conclusion.map(lambda l : l [1]).histogram(10)"
      ]
    },
    {
      "cell_type": "markdown",
      "metadata": {
        "id": "wymqkE9zu61R"
      },
      "source": [
        "## Ejercicios Programación funcional"
      ]
    },
    {
      "cell_type": "markdown",
      "metadata": {
        "id": "BLMGps-pu2TZ"
      },
      "source": [
        "### Ejercicio 5\n",
        "**Escribir una función que aplique el IVA a un precio.**\n",
        "* Nombre de la función: apply_iva\n",
        "* Argumentos: precio, iva\n",
        "* Resultado: precio con iva aplicado\n",
        "\n",
        "\n",
        "* Prueba a llamar a la función\n"
      ]
    },
    {
      "cell_type": "code",
      "execution_count": 6,
      "metadata": {
        "id": "mu6lIB0Fu2Ti"
      },
      "outputs": [],
      "source": [
        "#Inserta aquí tu código\n",
        "def apply_iva(base_imponible):\n",
        "  return base_imponible * 121/100"
      ]
    },
    {
      "cell_type": "code",
      "source": [
        "apply_iva(50)"
      ],
      "metadata": {
        "colab": {
          "base_uri": "https://localhost:8080/"
        },
        "id": "oTCdRN4I5jio",
        "outputId": "2263ec87-0a1b-42a6-e17b-a0589c4e0d67"
      },
      "execution_count": 7,
      "outputs": [
        {
          "output_type": "execute_result",
          "data": {
            "text/plain": [
              "60.5"
            ]
          },
          "metadata": {},
          "execution_count": 7
        }
      ]
    },
    {
      "cell_type": "markdown",
      "metadata": {
        "id": "cf_bBDqUvvrH"
      },
      "source": [
        "### Ejercicio 6\n",
        "** Escribe una función que aplica la función cuadrado() a todos los elementos de una lista.**\n",
        "\n",
        "    Parámetros:\n",
        "        funcion: Recibe la función a aplicar.\n",
        "        lista: Es una lista con valores que se pasarán como argumentos a funcion.\n",
        "    Devuelve:\n",
        "        Una lista con el resultado de aplicar la función a los valores de la lista."
      ]
    },
    {
      "cell_type": "code",
      "execution_count": null,
      "metadata": {
        "colab": {
          "base_uri": "https://localhost:8080/"
        },
        "id": "4OLzIg3cvvrI",
        "outputId": "ce8e5c95-e7b4-43d0-959f-490f79920c5a"
      },
      "outputs": [
        {
          "name": "stdout",
          "output_type": "stream",
          "text": [
            "[1, 4, 9, 16, 25]\n"
          ]
        }
      ],
      "source": [
        "#Inserta aquí tu código\n",
        "def aplicar_funcion_a_lista(funcion, lista):\n",
        "    # Aplicar la función a cada elemento de la lista y guardar los resultados en una nueva lista\n",
        "    resultados = [funcion(elemento) for elemento in lista]\n",
        "    return resultados\n",
        "\n",
        "# Ejemplo de uso de la función cuadrado\n",
        "def cuadrado(x):\n",
        "    return x ** 2\n",
        "\n",
        "# Lista de números de entrada\n",
        "numeros = [1, 2, 3, 4, 5]\n",
        "\n",
        "# Aplicar la función cuadrado a la lista de números\n",
        "resultados_cuadrado = aplicar_funcion_a_lista(cuadrado, numeros)\n",
        "\n",
        "print(resultados_cuadrado)\n"
      ]
    },
    {
      "cell_type": "markdown",
      "metadata": {
        "id": "_1FP4aGdx4To"
      },
      "source": [
        "### Ejercicio 7\n",
        "**Detectar y corregir los errores del siguiente programa que aplica el iva a una factura:**\n"
      ]
    },
    {
      "cell_type": "code",
      "execution_count": 10,
      "metadata": {
        "colab": {
          "base_uri": "https://localhost:8080/"
        },
        "id": "V2TWrbVUx4Tp",
        "outputId": "feed9920-8148-4728-f801-c582aa537302"
      },
      "outputs": [
        {
          "output_type": "stream",
          "name": "stdout",
          "text": [
            "Introduce la base imponible de la factura: 50\n",
            "Introduce el iva de la factura: 21\n",
            "60.5\n",
            "60.5\n"
          ]
        }
      ],
      "source": [
        "base = float(input('Introduce la base imponible de la factura: '))\n",
        "iva = int(input('Introduce el iva de la factura: '))\n",
        "print(aplica_iva(base, iva))\n",
        "\n",
        "def aplica_iva(base, iva = 21):\n",
        "    base = base * ( (iva+100) /100)\n",
        "    return base\n",
        "print(aplica_iva(base, iva))"
      ]
    }
  ],
  "metadata": {
    "colab": {
      "provenance": []
    },
    "kernelspec": {
      "display_name": "Python 3",
      "language": "python",
      "name": "python3"
    },
    "language_info": {
      "codemirror_mode": {
        "name": "ipython",
        "version": 3
      },
      "file_extension": ".py",
      "mimetype": "text/x-python",
      "name": "python",
      "nbconvert_exporter": "python",
      "pygments_lexer": "ipython3",
      "version": "3.8.5"
    }
  },
  "nbformat": 4,
  "nbformat_minor": 0
}